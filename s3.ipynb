{
 "cells": [
  {
   "cell_type": "code",
   "execution_count": 127,
   "metadata": {},
   "outputs": [],
   "source": [
    "import boto3\n",
    "import pandas as pd\n",
    "#create region where the server is located\n",
    "region = \"eu-west-1\"\n",
    "#initialize the s3 resource\n",
    "s3_client = boto3.client('s3', region_name = region)\n",
    "#location constraint for s3 bucket\n",
    "location = {\"LocationConstraint\": region}\n",
    "#create bucket\n",
    "bucket = \"blossom-data-eng-jefferson\"\n",
    "s3_client.create_bucket(Bucket = bucket,\n",
    "                       CreateBucketConfiguration = location)"
   ]
  },
  {
   "cell_type": "code",
   "execution_count": 6,
   "metadata": {},
   "outputs": [],
   "source": [
    "#Download the file\n",
    "s3_client.download_file(\"blossom-data-engs\", \"free-7-million-company-dataset.zip\", \n",
    "                        \"free-7-million-company-dataset.zip\")"
   ]
  },
  {
   "cell_type": "code",
   "execution_count": 119,
   "metadata": {},
   "outputs": [
    {
     "data": {
      "text/html": [
       "<div>\n",
       "<style scoped>\n",
       "    .dataframe tbody tr th:only-of-type {\n",
       "        vertical-align: middle;\n",
       "    }\n",
       "\n",
       "    .dataframe tbody tr th {\n",
       "        vertical-align: top;\n",
       "    }\n",
       "\n",
       "    .dataframe thead th {\n",
       "        text-align: right;\n",
       "    }\n",
       "</style>\n",
       "<table border=\"1\" class=\"dataframe\">\n",
       "  <thead>\n",
       "    <tr style=\"text-align: right;\">\n",
       "      <th></th>\n",
       "      <th>Unnamed: 0</th>\n",
       "      <th>name</th>\n",
       "      <th>domain</th>\n",
       "      <th>year founded</th>\n",
       "      <th>industry</th>\n",
       "      <th>size range</th>\n",
       "      <th>locality</th>\n",
       "      <th>country</th>\n",
       "      <th>linkedin url</th>\n",
       "      <th>current employee estimate</th>\n",
       "      <th>total employee estimate</th>\n",
       "      <th>Unnamed: 11</th>\n",
       "    </tr>\n",
       "  </thead>\n",
       "  <tbody>\n",
       "    <tr>\n",
       "      <th>0</th>\n",
       "      <td>5872184</td>\n",
       "      <td>ibm</td>\n",
       "      <td>ibm.com</td>\n",
       "      <td>1911</td>\n",
       "      <td>information technology and services</td>\n",
       "      <td>10001+</td>\n",
       "      <td>new york, new york, united states</td>\n",
       "      <td>united states</td>\n",
       "      <td>linkedin.com/company/ibm</td>\n",
       "      <td>274047</td>\n",
       "      <td>716906</td>\n",
       "      <td>NaN</td>\n",
       "    </tr>\n",
       "    <tr>\n",
       "      <th>1</th>\n",
       "      <td>4425416</td>\n",
       "      <td>tata consultancy services</td>\n",
       "      <td>tcs.com</td>\n",
       "      <td>1968</td>\n",
       "      <td>information technology and services</td>\n",
       "      <td>10001+</td>\n",
       "      <td>bombay, maharashtra, india</td>\n",
       "      <td>india</td>\n",
       "      <td>linkedin.com/company/tata-consultancy-services</td>\n",
       "      <td>190771</td>\n",
       "      <td>341369</td>\n",
       "      <td>NaN</td>\n",
       "    </tr>\n",
       "    <tr>\n",
       "      <th>2</th>\n",
       "      <td>21074</td>\n",
       "      <td>accenture</td>\n",
       "      <td>accenture.com</td>\n",
       "      <td>1989</td>\n",
       "      <td>information technology and services</td>\n",
       "      <td>10001+</td>\n",
       "      <td>dublin, dublin, ireland</td>\n",
       "      <td>ireland</td>\n",
       "      <td>linkedin.com/company/accenture</td>\n",
       "      <td>190689</td>\n",
       "      <td>455768</td>\n",
       "      <td>NaN</td>\n",
       "    </tr>\n",
       "    <tr>\n",
       "      <th>3</th>\n",
       "      <td>2309813</td>\n",
       "      <td>us army</td>\n",
       "      <td>goarmy.com</td>\n",
       "      <td>1800</td>\n",
       "      <td>military</td>\n",
       "      <td>10001+</td>\n",
       "      <td>alexandria, virginia, united states</td>\n",
       "      <td>united states</td>\n",
       "      <td>linkedin.com/company/us-army</td>\n",
       "      <td>162163</td>\n",
       "      <td>445958</td>\n",
       "      <td>NaN</td>\n",
       "    </tr>\n",
       "    <tr>\n",
       "      <th>4</th>\n",
       "      <td>1558607</td>\n",
       "      <td>ey</td>\n",
       "      <td>ey.com</td>\n",
       "      <td>1989</td>\n",
       "      <td>accounting</td>\n",
       "      <td>10001+</td>\n",
       "      <td>london, greater london, united kingdom</td>\n",
       "      <td>united kingdom</td>\n",
       "      <td>linkedin.com/company/ernstandyoung</td>\n",
       "      <td>158363</td>\n",
       "      <td>428960</td>\n",
       "      <td>NaN</td>\n",
       "    </tr>\n",
       "  </tbody>\n",
       "</table>\n",
       "</div>"
      ],
      "text/plain": [
       "   Unnamed: 0                       name         domain year founded  \\\n",
       "0     5872184                        ibm        ibm.com         1911   \n",
       "1     4425416  tata consultancy services        tcs.com         1968   \n",
       "2       21074                  accenture  accenture.com         1989   \n",
       "3     2309813                    us army     goarmy.com         1800   \n",
       "4     1558607                         ey         ey.com         1989   \n",
       "\n",
       "                              industry size range  \\\n",
       "0  information technology and services     10001+   \n",
       "1  information technology and services     10001+   \n",
       "2  information technology and services     10001+   \n",
       "3                             military     10001+   \n",
       "4                           accounting     10001+   \n",
       "\n",
       "                                 locality         country  \\\n",
       "0       new york, new york, united states   united states   \n",
       "1              bombay, maharashtra, india           india   \n",
       "2                 dublin, dublin, ireland         ireland   \n",
       "3     alexandria, virginia, united states   united states   \n",
       "4  london, greater london, united kingdom  united kingdom   \n",
       "\n",
       "                                     linkedin url current employee estimate  \\\n",
       "0                        linkedin.com/company/ibm                    274047   \n",
       "1  linkedin.com/company/tata-consultancy-services                    190771   \n",
       "2                  linkedin.com/company/accenture                    190689   \n",
       "3                    linkedin.com/company/us-army                    162163   \n",
       "4              linkedin.com/company/ernstandyoung                    158363   \n",
       "\n",
       "   total employee estimate  Unnamed: 11  \n",
       "0                   716906          NaN  \n",
       "1                   341369          NaN  \n",
       "2                   455768          NaN  \n",
       "3                   445958          NaN  \n",
       "4                   428960          NaN  "
      ]
     },
     "execution_count": 119,
     "metadata": {},
     "output_type": "execute_result"
    }
   ],
   "source": [
    "#read with pandas\n",
    "company_data = pd.read_csv(\"free-7-million-company-dataset.zip\", compression = \"zip\")\n",
    "company_data.head()"
   ]
  },
  {
   "cell_type": "code",
   "execution_count": 121,
   "metadata": {},
   "outputs": [],
   "source": [
    "#Filter out companies without a domain name using pandas.\n",
    "company_data.dropna(subset = ['domain'], inplace = True)"
   ]
  },
  {
   "cell_type": "code",
   "execution_count": 122,
   "metadata": {},
   "outputs": [],
   "source": [
    "#save to csv\n",
    "company_data.to_csv(\"free-7-million-company-dataset.csv\")"
   ]
  },
  {
   "cell_type": "code",
   "execution_count": 123,
   "metadata": {},
   "outputs": [],
   "source": [
    "#save to json\n",
    "company_data.to_json(\"free-7-million-company-dataset.json.gzip\", compression = 'gzip')"
   ]
  },
  {
   "cell_type": "code",
   "execution_count": 124,
   "metadata": {},
   "outputs": [],
   "source": [
    "#convert dtypes to string\n",
    "company_data = company_data.astype(str)"
   ]
  },
  {
   "cell_type": "code",
   "execution_count": 135,
   "metadata": {},
   "outputs": [],
   "source": [
    "#save to parquet\n",
    "company_data.to_parquet(\"free-7-million-company-dataset.parquet\")"
   ]
  },
  {
   "cell_type": "code",
   "execution_count": 137,
   "metadata": {},
   "outputs": [],
   "source": [
    "#upload the files\n",
    "s3_client.upload_file('free-7-million-company-dataset.csv', \n",
    "                      bucket, 'project2/free-7-million-company-dataset.csv')\n"
   ]
  },
  {
   "cell_type": "code",
   "execution_count": 138,
   "metadata": {},
   "outputs": [],
   "source": [
    "s3_client.upload_file('free-7-million-company-dataset.json.gzip', \n",
    "                      bucket, 'project2/free-7-million-company-dataset.json.gzip')\n",
    "s3_client.upload_file('free-7-million-company-dataset.parquet', \n",
    "                      bucket, 'project2/free-7-million-company-dataset.parquet')"
   ]
  }
 ],
 "metadata": {
  "kernelspec": {
   "display_name": "Python 3",
   "language": "python",
   "name": "python3"
  },
  "language_info": {
   "codemirror_mode": {
    "name": "ipython",
    "version": 3
   },
   "file_extension": ".py",
   "mimetype": "text/x-python",
   "name": "python",
   "nbconvert_exporter": "python",
   "pygments_lexer": "ipython3",
   "version": "3.8.3"
  }
 },
 "nbformat": 4,
 "nbformat_minor": 4
}
